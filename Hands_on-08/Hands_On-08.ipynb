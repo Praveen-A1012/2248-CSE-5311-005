{
 "cells": [
  {
   "cell_type": "code",
   "execution_count": 20,
   "id": "373c5bd6",
   "metadata": {},
   "outputs": [],
   "source": [
    "#Praveen Anand\n",
    "#1002219407"
   ]
  },
  {
   "cell_type": "code",
   "execution_count": 8,
   "id": "5379c506",
   "metadata": {},
   "outputs": [
    {
     "data": {
      "text/plain": [
       "15"
      ]
     },
     "execution_count": 8,
     "metadata": {},
     "output_type": "execute_result"
    }
   ],
   "source": [
    "#QuickSort\n",
    "import random\n",
    "\n",
    "def partitioning(arr, low, high):\n",
    "    pivot = arr[high]  \n",
    "    i = low - 1\n",
    "    for j in range(low, high):\n",
    "        if arr[j] < pivot:\n",
    "            i += 1\n",
    "            arr[i], arr[j] = arr[j], arr[i]\n",
    "    arr[i + 1], arr[high] = arr[high], arr[i + 1]\n",
    "    return i + 1\n",
    "\n",
    "def quicksort(arr, low, high, i):\n",
    "    if low == high: \n",
    "        return arr[low]\n",
    "\n",
    "\n",
    "    pivot_idx = partitioning(arr, low, high)\n",
    "\n",
    "    k = pivot_idx - low + 1\n",
    "\n",
    "    if i == k:\n",
    "        return arr[pivot_idx]\n",
    "    elif i < k:\n",
    "        return quicksort(arr, low, pivot_idx - 1, i)\n",
    "    else:\n",
    "        return quicksort(arr, pivot_idx + 1, high, i - k)\n",
    "\n",
    "def ith_order_statistics(arr, i):\n",
    "    return quicksort(arr, 0, len(arr) - 1, i)\n",
    "#Example array\n",
    "arr = [22, 13, 15, 7, 44, 19, 26]\n",
    "i = 3 \n",
    "result = ith_order_statistic(arr, i)\n",
    "result\n"
   ]
  },
  {
   "cell_type": "code",
   "execution_count": 19,
   "id": "bde908f9",
   "metadata": {},
   "outputs": [
    {
     "data": {
      "text/plain": [
       "10"
      ]
     },
     "execution_count": 19,
     "metadata": {},
     "output_type": "execute_result"
    }
   ],
   "source": [
    "#Stack\n",
    "class Stack:\n",
    "    def __init__(self, quantity):\n",
    "        self.quantity = quantity\n",
    "        self.stack = [0] * quantity  # Fixed-size array\n",
    "        self.top = -1  # Index of the top element\n",
    "\n",
    "    def push(self, value: int):\n",
    "        if self.top == self.quantity - 1:\n",
    "            raise OverflowError(\"Stack overflow error\")\n",
    "        self.top += 1\n",
    "        self.stack[self.top] = value\n",
    "\n",
    "    def pop(self) -> int:\n",
    "        if self.top == -1:\n",
    "            raise IndexError(\"Stack no index error(underflow)\")\n",
    "        value = self.stack[self.top]\n",
    "        self.top -= 1\n",
    "        return value\n",
    "\n",
    "    def peek(self) -> int:\n",
    "        if self.top == -1:\n",
    "            raise IndexError(\"Stack is empty\")\n",
    "        return self.stack[self.top]\n",
    "\n",
    "    def is_empty(self) -> bool:\n",
    "        return self.top == -1\n",
    "\n",
    "# Example usage\n",
    "stack = Stack(15)\n",
    "stack.push(10)\n",
    "stack.push(12)\n",
    "stack.pop()  \n",
    "stack.peek()  \n"
   ]
  },
  {
   "cell_type": "code",
   "execution_count": 14,
   "id": "375290d4",
   "metadata": {},
   "outputs": [
    {
     "data": {
      "text/plain": [
       "3"
      ]
     },
     "execution_count": 14,
     "metadata": {},
     "output_type": "execute_result"
    }
   ],
   "source": [
    "#Queue\n",
    "class Queue:\n",
    "    def __init__(self, quantity):\n",
    "        self.quantity = quantity\n",
    "        self.queue = [0] * quantity  # Fixed-size array\n",
    "        self.front = 0\n",
    "        self.rear = -1\n",
    "        self.size = 0\n",
    "\n",
    "    def enqueue(self, value: int):\n",
    "        if self.size == self.quantity:\n",
    "            raise OverflowError(\"Queue overflow error\")\n",
    "        self.rear = (self.rear + 1) % self.quantity\n",
    "        self.queue[self.rear] = value\n",
    "        self.size += 1\n",
    "\n",
    "    def dequeue(self) -> int:\n",
    "        if self.size == 0:\n",
    "            raise IndexError(\"Queue underflow error\")\n",
    "        value = self.queue[self.front]\n",
    "        self.front = (self.front + 1) % self.quantity\n",
    "        self.size -= 1\n",
    "        return value\n",
    "\n",
    "    def peek(self) -> int:\n",
    "        if self.size == 0:\n",
    "            raise IndexError(\"Queue is empty\")\n",
    "        return self.queue[self.front]\n",
    "\n",
    "    def is_empty(self) -> bool:\n",
    "        return self.size == 0\n",
    "\n",
    "# Example usage\n",
    "queue = Queue(10)\n",
    "queue.enqueue(4)\n",
    "queue.enqueue(3)\n",
    "queue.dequeue() \n",
    "queue.peek()  \n"
   ]
  },
  {
   "cell_type": "code",
   "execution_count": 17,
   "id": "cd199124",
   "metadata": {},
   "outputs": [
    {
     "name": "stdout",
     "output_type": "stream",
     "text": [
      "1 -> 2 -> None\n",
      "2 -> None\n"
     ]
    }
   ],
   "source": [
    "#Linkedlist\n",
    "class LinkedList:\n",
    "    class Node:\n",
    "        def __init__(self, value: int, next_index: int = -1):\n",
    "            self.value = value\n",
    "            self.next_idx = next_idx\n",
    "\n",
    "    def __init__(self, quantity):\n",
    "        self.quantity = quantity\n",
    "        self.nodes = [None] * quantity  \n",
    "        self.size = 0\n",
    "        self.head = -1  \n",
    "        self.free_index = 0\n",
    "\n",
    "    def insert(self, value: int):\n",
    "        if self.size == self.quantity:\n",
    "            raise OverflowError(\"Linked list is full\")\n",
    "        new_node = self.Node(value)\n",
    "        self.nodes[self.free_idx] = new_node\n",
    "        if self.head == -1: \n",
    "            self.head = self.free_idx\n",
    "        else:\n",
    "            current_idx = self.head\n",
    "            while self.nodes[current_idx].next_idx != -1:\n",
    "                current_idx = self.nodes[current_idx].next_idx\n",
    "            self.nodes[current_idx].next_idx = self.free_idx\n",
    "        self.free_idx += 1\n",
    "        self.size += 1\n",
    "\n",
    "    def delete(self, value: int):\n",
    "        if self.head == -1:\n",
    "            raise ValueError(\"List is empty\")\n",
    "        current_idx = self.head\n",
    "        prev_idx = -1\n",
    "        while current_idx != -1:\n",
    "            if self.nodes[current_idx].value == value:\n",
    "                if prev_idx == -1:  \n",
    "                    self.head = self.nodes[current_idx].next_idx\n",
    "                else:\n",
    "                    self.nodes[prev_idx].next_idx = self.nodes[current_idx].next_idx\n",
    "                self.size -= 1\n",
    "                return\n",
    "            prev_idx = current_idx\n",
    "            current_idx = self.nodes[current_idx].next_idx\n",
    "        raise ValueError(\"Value not found in the list\")\n",
    "\n",
    "    def search(self, value: int) -> bool:\n",
    "        current_idx = self.head\n",
    "        while current_idx != -1:\n",
    "            if self.nodes[current_idx].value == value:\n",
    "                return True\n",
    "            current_idx = self.nodes[current_idx].next_idx\n",
    "        return False\n",
    "\n",
    "    def traverse(self):\n",
    "        current_idx = self.head\n",
    "        while current_idx != -1:\n",
    "            print(self.nodes[current_idx].value, end=\" -> \")\n",
    "            current_idx = self.nodes[current_idx].next_idx\n",
    "        print(\"None\")\n",
    "\n",
    "# Example usage\n",
    "linked_list = SinglyLinkedList(5)\n",
    "linked_list.insert(1)\n",
    "linked_list.insert(2)\n",
    "linked_list.traverse()  \n",
    "linked_list.delete(1)\n",
    "linked_list.traverse() \n"
   ]
  },
  {
   "cell_type": "code",
   "execution_count": null,
   "id": "128d29c7",
   "metadata": {},
   "outputs": [],
   "source": []
  },
  {
   "cell_type": "code",
   "execution_count": null,
   "id": "83a69025",
   "metadata": {},
   "outputs": [],
   "source": []
  },
  {
   "cell_type": "code",
   "execution_count": null,
   "id": "2623cca2",
   "metadata": {},
   "outputs": [],
   "source": []
  }
 ],
 "metadata": {
  "kernelspec": {
   "display_name": "Python 3 (ipykernel)",
   "language": "python",
   "name": "python3"
  },
  "language_info": {
   "codemirror_mode": {
    "name": "ipython",
    "version": 3
   },
   "file_extension": ".py",
   "mimetype": "text/x-python",
   "name": "python",
   "nbconvert_exporter": "python",
   "pygments_lexer": "ipython3",
   "version": "3.10.6"
  }
 },
 "nbformat": 4,
 "nbformat_minor": 5
}
