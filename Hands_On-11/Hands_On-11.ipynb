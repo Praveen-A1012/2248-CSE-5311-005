{
 "cells": [
  {
   "cell_type": "code",
   "execution_count": 7,
   "id": "35756794",
   "metadata": {},
   "outputs": [
    {
     "name": "stdout",
     "output_type": "stream",
     "text": [
      "Dynamic array: [15, 23, 55]\n",
      "Length of the array: 3\n",
      "Element at index 0: 15\n",
      "Element at index 1: 23\n",
      "Element at index 2: 55\n",
      "Dynamic array after adding an element: [15, 23, 55, 40]\n",
      "Length of the array after adding: 4\n"
     ]
    }
   ],
   "source": [
    "import ctypes\n",
    "\n",
    "class Dynamic_Array:\n",
    "    def __init__(self):\n",
    "        self.size = 0\n",
    "        self.capacity = 1\n",
    "        self.array = self._create_array(self.capacity)\n",
    "\n",
    "    def _create_array(self, capacity):\n",
    "        return (capacity * ctypes.py_object)()\n",
    "\n",
    "    def _resize(self, new_capacity):\n",
    "        new_array = self._create_array(new_capacity)\n",
    "        for i in range(self.size):\n",
    "            new_array[i] = self.array[i]\n",
    "        self.array = new_array\n",
    "        self.capacity = new_capacity\n",
    "\n",
    "    def add(self, value):\n",
    "        if self.size == self.capacity:  # Added the missing colon here\n",
    "            self._resize(2 * self.capacity)\n",
    "        self.array[self.size] = value\n",
    "        self.size += 1\n",
    "\n",
    "    def get(self, index):\n",
    "        if not 0 <= index < self.size:\n",
    "            raise IndexError(\"Index out of bounds\")\n",
    "        return self.array[index]\n",
    "\n",
    "    def __len__(self):\n",
    "        return self.size\n",
    "\n",
    "    def __str__(self):\n",
    "        return \"[\" + \", \".join(str(self.array[i]) for i in range(self.size)) + \"]\"\n",
    "dynamic_array = Dynamic_Array()\n",
    "dynamic_array.add(15)\n",
    "dynamic_array.add(23)\n",
    "dynamic_array.add(55)\n",
    "\n",
    "print(\"Dynamic array:\", dynamic_array)\n",
    "print(\"Length of the array:\", len(dynamic_array))\n",
    "\n",
    "# Access the elements\n",
    "print(\"Element at index 0:\", dynamic_array.get(0))\n",
    "print(\"Element at index 1:\", dynamic_array.get(1))\n",
    "print(\"Element at index 2:\", dynamic_array.get(2))\n",
    "\n",
    "# Add elements \n",
    "dynamic_array.add(40)\n",
    "print(\"Dynamic array after adding an element:\", dynamic_array)\n",
    "print(\"Length of the array after adding:\", len(dynamic_array))\n"
   ]
  }
 ],
 "metadata": {
  "kernelspec": {
   "display_name": "Python 3 (ipykernel)",
   "language": "python",
   "name": "python3"
  },
  "language_info": {
   "codemirror_mode": {
    "name": "ipython",
    "version": 3
   },
   "file_extension": ".py",
   "mimetype": "text/x-python",
   "name": "python",
   "nbconvert_exporter": "python",
   "pygments_lexer": "ipython3",
   "version": "3.10.6"
  }
 },
 "nbformat": 4,
 "nbformat_minor": 5
}
