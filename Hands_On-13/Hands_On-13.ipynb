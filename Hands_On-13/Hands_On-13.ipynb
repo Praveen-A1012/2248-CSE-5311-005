{
 "cells": [
  {
   "cell_type": "code",
   "execution_count": 4,
   "id": "9129843e",
   "metadata": {},
   "outputs": [
    {
     "name": "stdout",
     "output_type": "stream",
     "text": [
      "Topological Sort: [5, 4, 2, 3, 1, 0]\n"
     ]
    }
   ],
   "source": [
    "#Topological Sort Using DFS\n",
    "from collections import defaultdict\n",
    "\n",
    "class Graph:\n",
    "    def __init__(self, vertices):\n",
    "        self.graph = defaultdict(list)\n",
    "        self.V = vertices\n",
    "\n",
    "    def add_edge(self, u, v):\n",
    "        self.graph[u].append(v)\n",
    "\n",
    "    def topological_sort_util(self, v, visited, stack):\n",
    "        visited[v] = True\n",
    "        for neighbor in self.graph[v]:\n",
    "            if not visited[neighbor]:\n",
    "                self.topological_sort_util(neighbor, visited, stack)\n",
    "        stack.append(v)\n",
    "\n",
    "    def topological_sort(self):\n",
    "        visited = [False] * self.V\n",
    "        stack = []\n",
    "\n",
    "        for i in range(self.V):\n",
    "            if not visited[i]:\n",
    "                self.topological_sort_util(i, visited, stack)\n",
    "\n",
    "        return stack[::-1]\n",
    "\n",
    "g = Graph(6)\n",
    "g.add_edge(5, 2)\n",
    "g.add_edge(5, 0)\n",
    "g.add_edge(4, 0)\n",
    "g.add_edge(4, 1)\n",
    "g.add_edge(2, 3)\n",
    "g.add_edge(3, 1)\n",
    "\n",
    "print(\"Topological Sort:\", g.topological_sort())\n"
   ]
  },
  {
   "cell_type": "code",
   "execution_count": 6,
   "id": "1f6439c2",
   "metadata": {},
   "outputs": [
    {
     "name": "stdout",
     "output_type": "stream",
     "text": [
      "DFS from vertex 2:\n",
      "2 0 1 3 "
     ]
    }
   ],
   "source": [
    "#DFS\n",
    "class Graph:\n",
    "    def __init__(self, vertices):\n",
    "        self.graph = defaultdict(list)\n",
    "        self.V = vertices\n",
    "\n",
    "    def add_edge(self, u, v):\n",
    "        self.graph[u].append(v)\n",
    "\n",
    "    def dfs_util(self, v, visited):\n",
    "        visited[v] = True\n",
    "        print(v, end=' ')\n",
    "        for neighbor in self.graph[v]:\n",
    "            if not visited[neighbor]:\n",
    "                self.dfs_util(neighbor, visited)\n",
    "\n",
    "    def dfs(self, start):\n",
    "        visited = [False] * self.V\n",
    "        self.dfs_util(start, visited)\n",
    "\n",
    "\n",
    "g = Graph(4)\n",
    "g.add_edge(0, 1)\n",
    "g.add_edge(0, 2)\n",
    "g.add_edge(1, 2)\n",
    "g.add_edge(2, 0)\n",
    "g.add_edge(2, 3)\n",
    "g.add_edge(3, 3)\n",
    "\n",
    "print(\"DFS from vertex 2:\")\n",
    "g.dfs(2)\n"
   ]
  },
  {
   "cell_type": "code",
   "execution_count": 8,
   "id": "64b2154b",
   "metadata": {},
   "outputs": [
    {
     "name": "stdout",
     "output_type": "stream",
     "text": [
      "Kruskal's MST: [(2, 3, 4), (0, 3, 5), (0, 1, 10)]\n"
     ]
    }
   ],
   "source": [
    "#Kruskal's Algorithm\n",
    "class Graph:\n",
    "    def __init__(self, vertices):\n",
    "        self.V = vertices\n",
    "        self.edges = []\n",
    "\n",
    "    def add_edge(self, u, v, w):\n",
    "        self.edges.append((w, u, v))\n",
    "\n",
    "    def find(self, parent, i):\n",
    "        if parent[i] == i:\n",
    "            return i\n",
    "        return self.find(parent, parent[i])\n",
    "\n",
    "    def union(self, parent, rank, x, y):\n",
    "        root_x = self.find(parent, x)\n",
    "        root_y = self.find(parent, y)\n",
    "        if rank[root_x] < rank[root_y]:\n",
    "            parent[root_x] = root_y\n",
    "        elif rank[root_x] > rank[root_y]:\n",
    "            parent[root_y] = root_x\n",
    "        else:\n",
    "            parent[root_y] = root_x\n",
    "            rank[root_x] += 1\n",
    "\n",
    "    def kruskal(self):\n",
    "        self.edges.sort()\n",
    "        parent = []\n",
    "        rank = []\n",
    "        result = []\n",
    "\n",
    "        for node in range(self.V):\n",
    "            parent.append(node)\n",
    "            rank.append(0)\n",
    "\n",
    "        for edge in self.edges:\n",
    "            w, u, v = edge\n",
    "            x = self.find(parent, u)\n",
    "            y = self.find(parent, v)\n",
    "            if x != y:\n",
    "                result.append((u, v, w))\n",
    "                self.union(parent, rank, x, y)\n",
    "\n",
    "        return result\n",
    "\n",
    "\n",
    "g = Graph(4)\n",
    "g.add_edge(0, 1, 10)\n",
    "g.add_edge(0, 2, 6)\n",
    "g.add_edge(0, 3, 5)\n",
    "g.add_edge(1, 3, 15)\n",
    "g.add_edge(2, 3, 4)\n",
    "\n",
    "print(\"Kruskal's MST:\", g.kruskal())\n"
   ]
  },
  {
   "cell_type": "code",
   "execution_count": null,
   "id": "734c1eca",
   "metadata": {},
   "outputs": [],
   "source": []
  }
 ],
 "metadata": {
  "kernelspec": {
   "display_name": "Python 3 (ipykernel)",
   "language": "python",
   "name": "python3"
  },
  "language_info": {
   "codemirror_mode": {
    "name": "ipython",
    "version": 3
   },
   "file_extension": ".py",
   "mimetype": "text/x-python",
   "name": "python",
   "nbconvert_exporter": "python",
   "pygments_lexer": "ipython3",
   "version": "3.10.6"
  }
 },
 "nbformat": 4,
 "nbformat_minor": 5
}
