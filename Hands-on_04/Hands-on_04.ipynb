{
 "cells": [
  {
   "cell_type": "code",
   "execution_count": 1,
   "id": "7c5a06ee",
   "metadata": {},
   "outputs": [
    {
     "name": "stdout",
     "output_type": "stream",
     "text": [
      "5\n"
     ]
    }
   ],
   "source": [
    "#Fibonacci \n",
    "def fib(n):\n",
    "    if n == 0:\n",
    "        return 0\n",
    "    if n == 1:\n",
    "        return 1\n",
    "\n",
    "    return fib(n-1) + fib(n-2)\n",
    "\n",
    "print(fib(5))"
   ]
  },
  {
   "cell_type": "code",
   "execution_count": 12,
   "id": "2728a176",
   "metadata": {},
   "outputs": [
    {
     "name": "stdout",
     "output_type": "stream",
     "text": [
      "[0, 1, 2, 3, 4, 7, 8, 10, 11]\n",
      "[1, 2, 3, 4, 7, 8, 9, 10, 11]\n"
     ]
    }
   ],
   "source": [
    "#Merge_K_Sorted_Arrays\n",
    "import heapq\n",
    "\n",
    "def Merge_K_Sorted_Arrays(array):\n",
    "    \n",
    "    min_heap = []\n",
    "    output = []\n",
    "    \n",
    "    for i in range(len(arrays)):\n",
    "        heapq.heappush(min_heap, (array[i][0], i, 0))\n",
    "    \n",
    "\n",
    "    while min_heap:\n",
    "        value, array_idx, element_idx = heapq.heappop(min_heap)\n",
    "        output.append(value)\n",
    "        \n",
    "        \n",
    "        if element_idx + 1 < len(arrays[array_idx]):\n",
    "            next_element = arrays[array_idx][element_idx + 1]\n",
    "            heapq.heappush(min_heap, (next_element, array_idx, element_idx + 1))\n",
    "    \n",
    "    return output\n",
    "\n",
    "# Example\n",
    "K = 3\n",
    "array1 = [1, 3, 5, 7]\n",
    "array2 = [2, 4, 6, 8]\n",
    "array3 = [0, 9, 10, 11]\n",
    "\n",
    "input_array = [array1, array2, array3]\n",
    "print(Merge_K_Sorted_Arrays(input_array)) \n",
    "array1 = [1, 3, 7]\n",
    "array2 = [2, 4, 8]\n",
    "array3 = [9, 10, 11]\n",
    "\n",
    "input_array2 = [array1, array2, array3]\n",
    "print(merge_k_sorted_arrays(input_array2)) \n"
   ]
  },
  {
   "cell_type": "code",
   "execution_count": 11,
   "id": "c1d0c885",
   "metadata": {},
   "outputs": [
    {
     "name": "stdout",
     "output_type": "stream",
     "text": [
      "[2]\n",
      "[1, 2, 3, 4, 5]\n"
     ]
    }
   ],
   "source": [
    "#Duplicate elimination\n",
    "def eliminate_duplicate_elements(lst):\n",
    "    if not lst:\n",
    "        return lst\n",
    "\n",
    "    unique_value = 0\n",
    "\n",
    "    for curr_value in range(1, len(lst)):\n",
    "        if lst[curr_value] != lst[unique_value]:\n",
    "            unique_value += 1\n",
    "            lst[unique_value] = lst[curr_value]\n",
    "\n",
    "    return lst[:unique_value + 1]\n",
    "\n",
    "print(eliminate_duplicate_elements([2, 2, 2, 2, 2]))\n",
    "print(eliminate_duplicate_elements([1, 2, 2, 3, 4, 4, 4, 5, 5]))"
   ]
  },
  {
   "cell_type": "code",
   "execution_count": null,
   "id": "1c1d60f6",
   "metadata": {},
   "outputs": [],
   "source": []
  }
 ],
 "metadata": {
  "kernelspec": {
   "display_name": "Python 3 (ipykernel)",
   "language": "python",
   "name": "python3"
  },
  "language_info": {
   "codemirror_mode": {
    "name": "ipython",
    "version": 3
   },
   "file_extension": ".py",
   "mimetype": "text/x-python",
   "name": "python",
   "nbconvert_exporter": "python",
   "pygments_lexer": "ipython3",
   "version": "3.10.6"
  }
 },
 "nbformat": 4,
 "nbformat_minor": 5
}
