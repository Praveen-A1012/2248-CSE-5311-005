{
 "cells": [
  {
   "cell_type": "code",
   "execution_count": 1,
   "id": "ce52fbcf",
   "metadata": {},
   "outputs": [
    {
     "name": "stdout",
     "output_type": "stream",
     "text": [
      "Dijkstra's Algorithm on example_graph: {'v0': 0, 'v1': -4, 'v2': 3, 'v3': 0, 'v4': -3, 'v5': -5}\n",
      "Dijkstra's Algorithm on additional_graph: {'A': 0, 'B': 4, 'C': 2, 'D': 5}\n"
     ]
    }
   ],
   "source": [
    "#Dijkstra's algorithm\n",
    "\n",
    "import heapq\n",
    "\n",
    "def dijkstra(graph, start):\n",
    "    distances = {node: float('infinity') for node in graph}\n",
    "    distances[start] = 0\n",
    "    priority_queue = [(0, start)]\n",
    "    \n",
    "    while priority_queue:\n",
    "        current_distance, current_node = heapq.heappop(priority_queue)\n",
    "        \n",
    "        if current_distance > distances[current_node]:\n",
    "            continue\n",
    "        \n",
    "        for neighbor, weight in graph[current_node]:\n",
    "            distance = current_distance + weight\n",
    "            if distance < distances[neighbor]:\n",
    "                distances[neighbor] = distance\n",
    "                heapq.heappush(priority_queue, (distance, neighbor))\n",
    "    \n",
    "    return distances\n",
    "\n",
    "# input\n",
    "example_graph = {\n",
    "    'v0': [('v1', 0), ('v2', 5), ('v3', 0), ('v4', 0)],\n",
    "    'v1': [('v5', -1)],\n",
    "    'v2': [('v5', 1)],\n",
    "    'v3': [('v2', 3), ('v4', -3)],\n",
    "    'v4': [('v1', -1)],\n",
    "    'v5': []\n",
    "}\n",
    "\n",
    "# \n",
    "print(\"Dijkstra's Algorithm on example_graph:\", dijkstra(example_graph, 'v0'))\n",
    "\n",
    "additional_graph = {\n",
    "    'A': [('B', 4), ('C', 2)],\n",
    "    'B': [('C', -2), ('D', 2)],\n",
    "    'C': [('D', 3)],\n",
    "    'D': [('A', -4)]\n",
    "}\n",
    "\n",
    "print(\"Dijkstra's Algorithm on additional_graph:\", dijkstra(additional_graph, 'A'))\n"
   ]
  },
  {
   "cell_type": "code",
   "execution_count": 2,
   "id": "a89524c3",
   "metadata": {},
   "outputs": [
    {
     "name": "stdout",
     "output_type": "stream",
     "text": [
      "Bellman-Ford Algorithm on example_graph: {'s': 0, 't': 8, 'x': 9, 'y': 5, 'z': 7}\n",
      "Bellman-Ford Algorithm on additional_graph: {'A': 0, 'B': 1, 'C': 3, 'D': 6}\n"
     ]
    }
   ],
   "source": [
    "#Bellman-Ford algorithm\n",
    "\n",
    "def bellman_ford(graph, start):\n",
    "    distances = {node: float('infinity') for node in graph}\n",
    "    distances[start] = 0\n",
    "    \n",
    "    for _ in range(len(graph) - 1):\n",
    "        for node in graph:\n",
    "            for neighbor, weight in graph[node]:\n",
    "                if distances[node] + weight < distances[neighbor]:\n",
    "                    distances[neighbor] = distances[node] + weight\n",
    "    \n",
    "    # Check negative weight cycles\n",
    "    for node in graph:\n",
    "        for neighbor, weight in graph[node]:\n",
    "            if distances[node] + weight < distances[neighbor]:\n",
    "                raise ValueError(\"Graph contains a negative weight cycle\")\n",
    "    \n",
    "    return distances\n",
    "\n",
    "#  input\n",
    "example_graph = {\n",
    "    's': [('t', 10), ('y', 5)],\n",
    "    't': [('x', 1), ('y', 2)],\n",
    "    'x': [('z', 4)],\n",
    "    'y': [('t', 3), ('x', 9), ('z', 2)],\n",
    "    'z': [('x', 6), ('s', 7)]\n",
    "}\n",
    "\n",
    "\n",
    "print(\"Bellman-Ford Algorithm on example_graph:\", bellman_ford(example_graph, 's'))\n",
    "\n",
    "additional_graph = {\n",
    "    'A': [('B', 1), ('C', 4)],\n",
    "    'B': [('A', 1), ('C', 2), ('D', 6)],\n",
    "    'C': [('A', 4), ('B', 2), ('D', 3)],\n",
    "    'D': [('B', 6), ('C', 3)]\n",
    "}\n",
    "\n",
    "print(\"Bellman-Ford Algorithm on additional_graph:\", bellman_ford(additional_graph, 'A'))\n"
   ]
  },
  {
   "cell_type": "code",
   "execution_count": 3,
   "id": "a67ab24f",
   "metadata": {},
   "outputs": [
    {
     "name": "stdout",
     "output_type": "stream",
     "text": [
      "Floyd-Warshall Algorithm on example_graph:\n",
      "[0, 1, -3, 2, -4]\n",
      "[3, 0, -4, 1, -1]\n",
      "[7, 4, 0, 5, 3]\n",
      "[2, -1, -5, 0, -2]\n",
      "[8, 5, 1, 6, 0]\n",
      "Floyd-Warshall Algorithm on additional_graph:\n",
      "[0, 2, 5, 1]\n",
      "[inf, 0, 3, 1]\n",
      "[inf, -1, 0, -2]\n",
      "[inf, 1, 4, 0]\n"
     ]
    }
   ],
   "source": [
    "def floyd_warshall(graph):\n",
    "    n = len(graph)\n",
    "    dist = [[graph[i][j] for j in range(n)] for i in range(n)]\n",
    "    \n",
    "    for k in range(n):\n",
    "        for i in range(n):\n",
    "            for j in range(n):\n",
    "                if dist[i][k] + dist[k][j] < dist[i][j]:\n",
    "                    dist[i][j] = dist[i][k] + dist[k][j]\n",
    "    \n",
    "    return dist\n",
    "\n",
    "# input\n",
    "example_graph = [\n",
    "    [0, 3, float('infinity'), 8, -4],\n",
    "    [float('infinity'), 0, float('infinity'), 1, 7],\n",
    "    [float('infinity'), 4, 0, float('infinity'), float('infinity')],\n",
    "    [2, float('infinity'), -5, 0, float('infinity')],\n",
    "    [float('infinity'), float('infinity'), float('infinity'), 6, 0]\n",
    "]\n",
    "\n",
    "\n",
    "print(\"Floyd-Warshall Algorithm on example_graph:\")\n",
    "for row in floyd_warshall(example_graph):\n",
    "    print(row)\n",
    "\n",
    "additional_graph = [\n",
    "    [0, 2, float('infinity'), 1],\n",
    "    [float('infinity'), 0, 3, float('infinity')],\n",
    "    [float('infinity'), float('infinity'), 0, -2],\n",
    "    [float('infinity'), 1, float('infinity'), 0]\n",
    "]\n",
    "\n",
    "print(\"Floyd-Warshall Algorithm on additional_graph:\")\n",
    "for row in floyd_warshall(additional_graph):\n",
    "    print(row)\n"
   ]
  },
  {
   "cell_type": "code",
   "execution_count": null,
   "id": "71c2785a",
   "metadata": {},
   "outputs": [],
   "source": []
  }
 ],
 "metadata": {
  "kernelspec": {
   "display_name": "Python 3 (ipykernel)",
   "language": "python",
   "name": "python3"
  },
  "language_info": {
   "codemirror_mode": {
    "name": "ipython",
    "version": 3
   },
   "file_extension": ".py",
   "mimetype": "text/x-python",
   "name": "python",
   "nbconvert_exporter": "python",
   "pygments_lexer": "ipython3",
   "version": "3.10.6"
  }
 },
 "nbformat": 4,
 "nbformat_minor": 5
}
